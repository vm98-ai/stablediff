{
 "cells": [
  {
   "cell_type": "code",
   "id": "initial_id",
   "metadata": {
    "collapsed": true,
    "ExecuteTime": {
     "end_time": "2024-12-15T19:15:49.812807Z",
     "start_time": "2024-12-15T19:15:44.720755Z"
    }
   },
   "source": [
    "import model_loader\n",
    "import pipeline\n",
    "from PIL import Image\n",
    "from transformers import CLIPTokenizer\n",
    "import torch\n",
    "\n",
    "torch.cuda.empty_cache()\n",
    "DEVICE = \"cpu\"\n",
    "ALLOW_CUDA = False\n",
    "ALLOW_NPS = False\n",
    "\n",
    "if torch.cuda.is_available() and ALLOW_CUDA:\n",
    "    DEVICE = \"cuda\"\n",
    "elif (torch.has_mps or torch.backends.mps.is_available()) and ALLOW_NPS:\n",
    "    DEVICE = \"mps\"\n",
    "print(f\"Using Device {DEVICE}\")\n",
    "\n",
    "tokenizer = CLIPTokenizer(\"/home/vishal/PycharmProjects/StableDiff/Data/vocab.json\", merges_file=\"/home/vishal/PycharmProjects/StableDiff/Data/merges.txt\")\n",
    "model_file = \"/home/vishal/PycharmProjects/StableDiff/Data/v1-5-pruned-emaonly.ckpt\"\n",
    "models = model_loader.preload_models_from_standard_weights(model_file, DEVICE)\n",
    "\n",
    "##text to image\n",
    "prompt = \"A cat stretching on the floor, highly detailed, ultra sharp, cinematic, 8k resolution\"\n",
    "uncond_prompt = \"\"\n",
    "do_cfg = True\n",
    "cfg_scale = 7\n",
    "\n",
    "## image to image\n",
    "input_image = None\n",
    "image_path = \"\"\n",
    "#input_image = Image.open(image_path)\n",
    "\n",
    "strength = 0.9\n",
    "\n",
    "sampler = \"ddpm\"\n",
    "num_inference_steps = 50\n",
    "seed = 42\n",
    "\n",
    "output_image = pipeline.generate(prompt= prompt,\n",
    "                                  uncond_prompt=uncond_prompt, input_image=input_image,strength=strength, do_cfg = do_cfg, cfg_scale= cfg_scale,\n",
    "                                  sampler_name = sampler, n_inference_steps = num_inference_steps,\n",
    "                                  seed = seed, models= models, device = DEVICE,\n",
    "                                 idle_device = \"cpu\",\n",
    "                                 tokenizer = tokenizer\n",
    "                                 )\n",
    "\n",
    "Image.fromarray(output_image)"
   ],
   "outputs": [
    {
     "name": "stderr",
     "output_type": "stream",
     "text": [
      "/tmp/ipykernel_62506/1778414667.py:14: UserWarning: 'has_mps' is deprecated, please use 'torch.backends.mps.is_built()'\n",
      "  elif (torch.has_mps or torch.backends.mps.is_available()) and ALLOW_NPS:\n"
     ]
    },
    {
     "name": "stdout",
     "output_type": "stream",
     "text": [
      "Using Device cpu\n"
     ]
    },
    {
     "ename": "TypeError",
     "evalue": "descriptor '__init__' requires a 'super' object but received a 'VAE_ResidualBlock'",
     "output_type": "error",
     "traceback": [
      "\u001B[0;31m---------------------------------------------------------------------------\u001B[0m",
      "\u001B[0;31mTypeError\u001B[0m                                 Traceback (most recent call last)",
      "Cell \u001B[0;32mIn[5], line 20\u001B[0m\n\u001B[1;32m     18\u001B[0m tokenizer \u001B[38;5;241m=\u001B[39m CLIPTokenizer(\u001B[38;5;124m\"\u001B[39m\u001B[38;5;124m/home/vishal/PycharmProjects/StableDiff/Data/vocab.json\u001B[39m\u001B[38;5;124m\"\u001B[39m, merges_file\u001B[38;5;241m=\u001B[39m\u001B[38;5;124m\"\u001B[39m\u001B[38;5;124m/home/vishal/PycharmProjects/StableDiff/Data/merges.txt\u001B[39m\u001B[38;5;124m\"\u001B[39m)\n\u001B[1;32m     19\u001B[0m model_file \u001B[38;5;241m=\u001B[39m \u001B[38;5;124m\"\u001B[39m\u001B[38;5;124m/home/vishal/PycharmProjects/StableDiff/Data/v1-5-pruned-emaonly.ckpt\u001B[39m\u001B[38;5;124m\"\u001B[39m\n\u001B[0;32m---> 20\u001B[0m models \u001B[38;5;241m=\u001B[39m \u001B[43mmodel_loader\u001B[49m\u001B[38;5;241;43m.\u001B[39;49m\u001B[43mpreload_models_from_standard_weights\u001B[49m\u001B[43m(\u001B[49m\u001B[43mmodel_file\u001B[49m\u001B[43m,\u001B[49m\u001B[43m \u001B[49m\u001B[43mDEVICE\u001B[49m\u001B[43m)\u001B[49m\n\u001B[1;32m     22\u001B[0m \u001B[38;5;66;03m##text to image\u001B[39;00m\n\u001B[1;32m     23\u001B[0m prompt \u001B[38;5;241m=\u001B[39m \u001B[38;5;124m\"\u001B[39m\u001B[38;5;124mA cat stretching on the floor, highly detailed, ultra sharp, cinematic, 8k resolution\u001B[39m\u001B[38;5;124m\"\u001B[39m\n",
      "File \u001B[0;32m~/PycharmProjects/StableDiff/s_d/model_loader.py:9\u001B[0m, in \u001B[0;36mpreload_models_from_standard_weights\u001B[0;34m(ckpt_path, device)\u001B[0m\n\u001B[1;32m      6\u001B[0m \u001B[38;5;28;01mdef\u001B[39;00m \u001B[38;5;21mpreload_models_from_standard_weights\u001B[39m(ckpt_path, device):\n\u001B[1;32m      7\u001B[0m     state_dict \u001B[38;5;241m=\u001B[39m model_converter\u001B[38;5;241m.\u001B[39mload_from_standard_weights(ckpt_path, device)\n\u001B[0;32m----> 9\u001B[0m     encoder \u001B[38;5;241m=\u001B[39m \u001B[43mVAE_Encoder\u001B[49m\u001B[43m(\u001B[49m\u001B[43m)\u001B[49m\u001B[38;5;241m.\u001B[39mto(device)\n\u001B[1;32m     10\u001B[0m     encoder\u001B[38;5;241m.\u001B[39mload_state_dict(state_dict[\u001B[38;5;124m\"\u001B[39m\u001B[38;5;124mencoder\u001B[39m\u001B[38;5;124m\"\u001B[39m], strict\u001B[38;5;241m=\u001B[39m\u001B[38;5;28;01mTrue\u001B[39;00m)\n\u001B[1;32m     11\u001B[0m     decoder \u001B[38;5;241m=\u001B[39m VAE_Decoder\u001B[38;5;241m.\u001B[39mto(device)\n",
      "File \u001B[0;32m~/PycharmProjects/StableDiff/s_d/encoder.py:11\u001B[0m, in \u001B[0;36mVAE_Encoder.__init__\u001B[0;34m(self)\u001B[0m\n\u001B[1;32m      7\u001B[0m \u001B[38;5;28;01mdef\u001B[39;00m \u001B[38;5;21m__init__\u001B[39m(\u001B[38;5;28mself\u001B[39m):\n\u001B[1;32m      8\u001B[0m     \u001B[38;5;28msuper\u001B[39m()\u001B[38;5;241m.\u001B[39m\u001B[38;5;21m__init__\u001B[39m(\n\u001B[1;32m      9\u001B[0m         \u001B[38;5;66;03m# (h,w,3) -> (batch_size,128,h,w)\u001B[39;00m\n\u001B[1;32m     10\u001B[0m         nn\u001B[38;5;241m.\u001B[39mConv2d(\u001B[38;5;241m3\u001B[39m, \u001B[38;5;241m128\u001B[39m, kernel_size\u001B[38;5;241m=\u001B[39m\u001B[38;5;241m3\u001B[39m, padding\u001B[38;5;241m=\u001B[39m\u001B[38;5;241m1\u001B[39m),\n\u001B[0;32m---> 11\u001B[0m         \u001B[43mVAE_ResidualBlock\u001B[49m\u001B[43m(\u001B[49m\u001B[38;5;241;43m128\u001B[39;49m\u001B[43m,\u001B[49m\u001B[43m \u001B[49m\u001B[38;5;241;43m128\u001B[39;49m\u001B[43m)\u001B[49m,\n\u001B[1;32m     12\u001B[0m         VAE_ResidualBlock(\u001B[38;5;241m128\u001B[39m, \u001B[38;5;241m128\u001B[39m),\n\u001B[1;32m     13\u001B[0m         \u001B[38;5;66;03m# (b,128,h,w) --->> (b, 128, h/2,w/2)\u001B[39;00m\n\u001B[1;32m     14\u001B[0m         nn\u001B[38;5;241m.\u001B[39mConv2d(\u001B[38;5;241m128\u001B[39m, \u001B[38;5;241m128\u001B[39m, kernel_size\u001B[38;5;241m=\u001B[39m\u001B[38;5;241m3\u001B[39m, stride\u001B[38;5;241m=\u001B[39m\u001B[38;5;241m2\u001B[39m, padding\u001B[38;5;241m=\u001B[39m\u001B[38;5;241m0\u001B[39m),\n\u001B[1;32m     15\u001B[0m         \u001B[38;5;66;03m# (batch_size,128,h/2,w/2) ->  (batch_size, 256, h/2, w/2)\u001B[39;00m\n\u001B[1;32m     16\u001B[0m         VAE_ResidualBlock(\u001B[38;5;241m128\u001B[39m, \u001B[38;5;241m256\u001B[39m),\n\u001B[1;32m     17\u001B[0m         VAE_ResidualBlock(\u001B[38;5;241m256\u001B[39m, \u001B[38;5;241m256\u001B[39m),\n\u001B[1;32m     18\u001B[0m         \u001B[38;5;66;03m# (batch_size,256,h/2,w/2) ->  (batch_size, 256, h/4, w/4)\u001B[39;00m\n\u001B[1;32m     19\u001B[0m         nn\u001B[38;5;241m.\u001B[39mConv2d(\u001B[38;5;241m256\u001B[39m, \u001B[38;5;241m256\u001B[39m, kernel_size\u001B[38;5;241m=\u001B[39m\u001B[38;5;241m3\u001B[39m, stride\u001B[38;5;241m=\u001B[39m\u001B[38;5;241m2\u001B[39m, padding\u001B[38;5;241m=\u001B[39m\u001B[38;5;241m0\u001B[39m),\n\u001B[1;32m     20\u001B[0m         \u001B[38;5;66;03m# (batch_size,256,h/4,w/4) ->  (batch_size, 512, h/4, w/4)\u001B[39;00m\n\u001B[1;32m     21\u001B[0m         VAE_ResidualBlock(\u001B[38;5;241m256\u001B[39m, \u001B[38;5;241m512\u001B[39m),\n\u001B[1;32m     22\u001B[0m         \u001B[38;5;66;03m# (batch_size,512,h/4,w/4) ->  (batch_size, 512, h/4, w/4)\u001B[39;00m\n\u001B[1;32m     23\u001B[0m         VAE_ResidualBlock(\u001B[38;5;241m512\u001B[39m, \u001B[38;5;241m512\u001B[39m),\n\u001B[1;32m     24\u001B[0m         \u001B[38;5;66;03m# (batch_size,512,h/4,w/4) ->  (batch_size, 512, h/8, w/8)\u001B[39;00m\n\u001B[1;32m     25\u001B[0m         nn\u001B[38;5;241m.\u001B[39mConv2d(\u001B[38;5;241m512\u001B[39m, \u001B[38;5;241m512\u001B[39m, kernel_size\u001B[38;5;241m=\u001B[39m\u001B[38;5;241m3\u001B[39m, stride\u001B[38;5;241m=\u001B[39m\u001B[38;5;241m2\u001B[39m, padding\u001B[38;5;241m=\u001B[39m\u001B[38;5;241m0\u001B[39m),\n\u001B[1;32m     26\u001B[0m \n\u001B[1;32m     27\u001B[0m \n\u001B[1;32m     28\u001B[0m         VAE_ResidualBlock(\u001B[38;5;241m512\u001B[39m, \u001B[38;5;241m512\u001B[39m),\n\u001B[1;32m     29\u001B[0m \n\u001B[1;32m     30\u001B[0m         VAE_ResidualBlock(\u001B[38;5;241m512\u001B[39m, \u001B[38;5;241m512\u001B[39m),\n\u001B[1;32m     31\u001B[0m         \u001B[38;5;66;03m# (batch_size,512,h/8,w/8) ->  (batch_size, 512, h/8, w/8)\u001B[39;00m\n\u001B[1;32m     32\u001B[0m         VAE_ResidualBlock(\u001B[38;5;241m512\u001B[39m, \u001B[38;5;241m512\u001B[39m),\n\u001B[1;32m     33\u001B[0m \n\u001B[1;32m     34\u001B[0m         \u001B[38;5;66;03m# (batch_size,512,h/8,w/8) ->  (batch_size, 512, h/8, w/8)\u001B[39;00m\n\u001B[1;32m     35\u001B[0m         VAE_AttentionBlock(\u001B[38;5;241m512\u001B[39m),\n\u001B[1;32m     36\u001B[0m \n\u001B[1;32m     37\u001B[0m         \u001B[38;5;66;03m# (batch_size,512,h/8,w/8) ->  (batch_size, 512, h/8, w/8)\u001B[39;00m\n\u001B[1;32m     38\u001B[0m         VAE_ResidualBlock(\u001B[38;5;241m512\u001B[39m, \u001B[38;5;241m512\u001B[39m),\n\u001B[1;32m     39\u001B[0m \n\u001B[1;32m     40\u001B[0m         \u001B[38;5;66;03m# (batch_size,512,h/8,w/8) ->  (batch_size, 512, h/8, w/8)\u001B[39;00m\n\u001B[1;32m     41\u001B[0m         nn\u001B[38;5;241m.\u001B[39mGroupNorm(\u001B[38;5;241m32\u001B[39m, \u001B[38;5;241m512\u001B[39m),\n\u001B[1;32m     42\u001B[0m         \u001B[38;5;66;03m# (batch_size,512,h/8,w/8) ->  (batch_size, 512, h/8, w/8)\u001B[39;00m\n\u001B[1;32m     43\u001B[0m         nn\u001B[38;5;241m.\u001B[39mSiLU(),\n\u001B[1;32m     44\u001B[0m         \u001B[38;5;66;03m# (batch_size,512,h/8,w/8) ->  (batch_size, 8, h/8, w/8)\u001B[39;00m\n\u001B[1;32m     45\u001B[0m         nn\u001B[38;5;241m.\u001B[39mConv2d(\u001B[38;5;241m512\u001B[39m,\u001B[38;5;241m8\u001B[39m, kernel_size \u001B[38;5;241m=\u001B[39m \u001B[38;5;241m3\u001B[39m, padding\u001B[38;5;241m=\u001B[39m\u001B[38;5;241m1\u001B[39m),\n\u001B[1;32m     46\u001B[0m         \u001B[38;5;66;03m# (batch_size,8,h/8,w/8) ->  (batch_size, 8, h/8, w/8)\u001B[39;00m\n\u001B[1;32m     47\u001B[0m         nn\u001B[38;5;241m.\u001B[39mConv2d(\u001B[38;5;241m8\u001B[39m, \u001B[38;5;241m8\u001B[39m, kernel_size\u001B[38;5;241m=\u001B[39m\u001B[38;5;241m1\u001B[39m, padding\u001B[38;5;241m=\u001B[39m\u001B[38;5;241m0\u001B[39m)\n\u001B[1;32m     48\u001B[0m \n\u001B[1;32m     49\u001B[0m     )\n",
      "File \u001B[0;32m~/PycharmProjects/StableDiff/s_d/decoder.py:36\u001B[0m, in \u001B[0;36mVAE_ResidualBlock.__init__\u001B[0;34m(self, in_channels, out_channels)\u001B[0m\n\u001B[1;32m     35\u001B[0m \u001B[38;5;28;01mdef\u001B[39;00m \u001B[38;5;21m__init__\u001B[39m(\u001B[38;5;28mself\u001B[39m, in_channels, out_channels):\n\u001B[0;32m---> 36\u001B[0m     \u001B[38;5;28;43msuper\u001B[39;49m\u001B[38;5;241;43m.\u001B[39;49m\u001B[38;5;21;43m__init__\u001B[39;49m\u001B[43m(\u001B[49m\u001B[38;5;28;43mself\u001B[39;49m\u001B[43m)\u001B[49m\n\u001B[1;32m     37\u001B[0m     \u001B[38;5;28mself\u001B[39m\u001B[38;5;241m.\u001B[39mgroupnorm_1 \u001B[38;5;241m=\u001B[39m nn\u001B[38;5;241m.\u001B[39mGroupNorm(\u001B[38;5;241m32\u001B[39m, in_channels)\n\u001B[1;32m     38\u001B[0m     \u001B[38;5;28mself\u001B[39m\u001B[38;5;241m.\u001B[39mconv_1 \u001B[38;5;241m=\u001B[39m nn\u001B[38;5;241m.\u001B[39mConv2d(in_channels, out_channels, kernel_size\u001B[38;5;241m=\u001B[39m\u001B[38;5;241m3\u001B[39m, padding\u001B[38;5;241m=\u001B[39m\u001B[38;5;241m1\u001B[39m)\n",
      "\u001B[0;31mTypeError\u001B[0m: descriptor '__init__' requires a 'super' object but received a 'VAE_ResidualBlock'"
     ]
    }
   ],
   "execution_count": 5
  },
  {
   "metadata": {
    "ExecuteTime": {
     "end_time": "2024-12-15T19:13:34.499214Z",
     "start_time": "2024-12-15T19:13:34.464308Z"
    }
   },
   "cell_type": "code",
   "source": [
    "import torch\n",
    "\n",
    "print(\"CUDA available:\", torch.cuda.is_available())  # Should return True if CUDA is available\n",
    "print(\"CUDA device count:\", torch.cuda.device_count())  # Number of available GPUs\n",
    "print(\"Current CUDA device:\", torch.cuda.current_device())  # Index of the current device\n",
    "print(\"Device name:\", torch.cuda.get_device_name(0)) "
   ],
   "id": "d5ee287fb58ad582",
   "outputs": [
    {
     "name": "stdout",
     "output_type": "stream",
     "text": [
      "CUDA available: True\n",
      "CUDA device count: 1\n",
      "Current CUDA device: 0\n",
      "Device name: NVIDIA GeForce GTX 1050\n"
     ]
    }
   ],
   "execution_count": 2
  },
  {
   "metadata": {},
   "cell_type": "code",
   "outputs": [],
   "execution_count": null,
   "source": "",
   "id": "945ce04c1db492f"
  }
 ],
 "metadata": {
  "kernelspec": {
   "display_name": "Python 3",
   "language": "python",
   "name": "python3"
  },
  "language_info": {
   "codemirror_mode": {
    "name": "ipython",
    "version": 2
   },
   "file_extension": ".py",
   "mimetype": "text/x-python",
   "name": "python",
   "nbconvert_exporter": "python",
   "pygments_lexer": "ipython2",
   "version": "2.7.6"
  }
 },
 "nbformat": 4,
 "nbformat_minor": 5
}
